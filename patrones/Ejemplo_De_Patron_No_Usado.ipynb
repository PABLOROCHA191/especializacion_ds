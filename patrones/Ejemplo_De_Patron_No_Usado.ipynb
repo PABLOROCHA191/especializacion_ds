{
 "cells": [
  {
   "cell_type": "markdown",
   "metadata": {},
   "source": [
    "## Patrón State En Python"
   ]
  },
  {
   "cell_type": "code",
   "execution_count": 2,
   "metadata": {},
   "outputs": [
    {
     "name": "stdout",
     "output_type": "stream",
     "text": [
      "\n",
      "Turno de Goku\n",
      "Goku ataca a Vegeta por 30 puntos de daño\n",
      "Goku: Vida 200, Energía 85\n",
      "Vegeta: Vida 170, Energía 100\n",
      "\n",
      "Turno de Goku\n",
      "Goku ataca a Vegeta por 30 puntos de daño\n",
      "Goku: Vida 200, Energía 70\n",
      "Vegeta: Vida 140, Energía 100\n",
      "\n",
      "Turno de Goku\n",
      "Goku ataca a Vegeta por 30 puntos de daño\n",
      "Goku: Vida 200, Energía 55\n",
      "Vegeta: Vida 110, Energía 100\n",
      "\n",
      "Turno de Goku\n",
      "Goku ataca a Vegeta por 30 puntos de daño\n",
      "Goku: Vida 200, Energía 40\n",
      "Vegeta: Vida 80, Energía 100\n",
      "\n",
      "Turno de Goku\n",
      "Goku ataca a Vegeta por 30 puntos de daño\n",
      "Goku: Vida 200, Energía 25\n",
      "Vegeta: Vida 50, Energía 100\n",
      "\n",
      "Turno de Goku\n",
      "Goku ataca a Vegeta por 30 puntos de daño\n",
      "Goku: Vida 200, Energía 10\n",
      "Vegeta: Vida 20, Energía 100\n",
      "\n",
      "Turno de Goku\n",
      "Goku ataca a Vegeta por 30 puntos de daño\n",
      "Goku: Vida 200, Energía -5\n",
      "Vegeta: Vida -10, Energía 100\n",
      "\n",
      "Goku gana!\n"
     ]
    }
   ],
   "source": [
    "from abc import ABC, abstractmethod\n",
    "\n",
    "# Clase abstracta Personaje\n",
    "class Personaje:\n",
    "    def __init__(self, nombre):\n",
    "        self.nombre = nombre\n",
    "        self.vida = 200\n",
    "        self.energia = 100\n",
    "\n",
    "    def atacar(self, otro_personaje):\n",
    "        otro_personaje.vida -= 30\n",
    "        self.energia -= 15\n",
    "        print(f\"{self.nombre} ataca a {otro_personaje.nombre} por 30 puntos de daño\")\n",
    "\n",
    "# Clase abstracta Estado\n",
    "class Estado(ABC):\n",
    "    @abstractmethod\n",
    "    def turno_goku(self, juego):\n",
    "        pass\n",
    "\n",
    "    @abstractmethod\n",
    "    def turno_vegeta(self, juego):\n",
    "        pass\n",
    "\n",
    "# Clases de Estados Concretos\n",
    "class EstadoJuegoActivo(Estado):\n",
    "    def turno_goku(self, juego):\n",
    "        juego.goku.atacar(juego.vegeta)\n",
    "        juego.cambiar_turno()\n",
    "\n",
    "    def turno_vegeta(self, juego):\n",
    "        juego.vegeta.atacar(juego.goku)\n",
    "        juego.cambiar_turno()\n",
    "\n",
    "class EstadoJuegoFinalizado(Estado):\n",
    "    def turno_goku(self, juego):\n",
    "        print(\"El juego ha finalizado\")\n",
    "\n",
    "    def turno_vegeta(self, juego):\n",
    "        print(\"El juego ha finalizado\")\n",
    "\n",
    "# Clase Juego\n",
    "class Juego:\n",
    "    def __init__(self):\n",
    "        self.goku = Personaje(\"Goku\")\n",
    "        self.vegeta = Personaje(\"Vegeta\")\n",
    "        self.estado = EstadoJuegoActivo()\n",
    "        self.turno = \"Goku\"\n",
    "\n",
    "    def cambiar_turno(self):\n",
    "        if self.turno == \"Goku\":\n",
    "            self.turno = \"Vegeta\"\n",
    "        else:\n",
    "            self.turno = \"Goku\"\n",
    "\n",
    "    def turno_goku(self):\n",
    "        self.estado.turno_goku(self)\n",
    "\n",
    "    def turno_vegeta(self):\n",
    "        self.estado.turno_vegeta(self)\n",
    "\n",
    "    def finalizar_juego(self):\n",
    "        self.estado = EstadoJuegoFinalizado()\n",
    "\n",
    "    def jugar(self):\n",
    "        while self.goku.vida > 0 and self.vegeta.vida > 0:\n",
    "            print(f\"\\nTurno de {self.turno}\")\n",
    "            if self.turno == \"Goku\":\n",
    "                self.turno_goku()\n",
    "            else:\n",
    "                self.turno_vegeta()\n",
    "            print(f\"Goku: Vida {self.goku.vida}, Energía {self.goku.energia}\")\n",
    "            print(f\"Vegeta: Vida {self.vegeta.vida}, Energía {self.vegeta.energia}\")\n",
    "            self.cambiar_turno()\n",
    "\n",
    "        if self.goku.vida <= 0:\n",
    "            print(\"\\nVegeta gana!\")\n",
    "        else:\n",
    "            print(\"\\nGoku gana!\")\n",
    "\n",
    "# Iniciar juego\n",
    "juego = Juego()\n",
    "juego.jugar()"
   ]
  },
  {
   "cell_type": "code",
   "execution_count": 1,
   "metadata": {},
   "outputs": [
    {
     "name": "stdout",
     "output_type": "stream",
     "text": [
      "\n",
      "Turno de Goku\n",
      "Goku ataca a Vegeta por 30 puntos de daño\n",
      "Goku: Vida 200, Energía 85\n",
      "Vegeta: Vida 170, Energía 100\n",
      "\n",
      "Turno de Vegeta\n",
      "Vegeta ataca a Goku por 30 puntos de daño\n",
      "Goku: Vida 170, Energía 85\n",
      "Vegeta: Vida 170, Energía 85\n",
      "\n",
      "Turno de Goku\n",
      "Goku ataca a Vegeta por 30 puntos de daño\n",
      "Goku: Vida 170, Energía 70\n",
      "Vegeta: Vida 140, Energía 85\n",
      "\n",
      "Turno de Vegeta\n",
      "Vegeta ataca a Goku por 30 puntos de daño\n",
      "Goku: Vida 140, Energía 70\n",
      "Vegeta: Vida 140, Energía 70\n",
      "\n",
      "Turno de Goku\n",
      "Goku ataca a Vegeta por 30 puntos de daño\n",
      "Goku: Vida 140, Energía 55\n",
      "Vegeta: Vida 110, Energía 70\n",
      "\n",
      "Turno de Vegeta\n",
      "Vegeta ataca a Goku por 30 puntos de daño\n",
      "Goku: Vida 110, Energía 55\n",
      "Vegeta: Vida 110, Energía 55\n",
      "\n",
      "Turno de Goku\n",
      "Goku ataca a Vegeta por 30 puntos de daño\n",
      "Goku: Vida 110, Energía 40\n",
      "Vegeta: Vida 80, Energía 55\n",
      "\n",
      "Turno de Vegeta\n",
      "Vegeta ataca a Goku por 30 puntos de daño\n",
      "Goku: Vida 80, Energía 40\n",
      "Vegeta: Vida 80, Energía 40\n",
      "\n",
      "Turno de Goku\n",
      "Goku ataca a Vegeta por 30 puntos de daño\n",
      "Goku: Vida 80, Energía 25\n",
      "Vegeta: Vida 50, Energía 40\n",
      "\n",
      "Turno de Vegeta\n",
      "Vegeta ataca a Goku por 30 puntos de daño\n",
      "Goku: Vida 50, Energía 25\n",
      "Vegeta: Vida 50, Energía 25\n",
      "\n",
      "Turno de Goku\n",
      "Goku ataca a Vegeta por 30 puntos de daño\n",
      "Goku: Vida 50, Energía 10\n",
      "Vegeta: Vida 20, Energía 25\n",
      "\n",
      "Turno de Vegeta\n",
      "Vegeta ataca a Goku por 30 puntos de daño\n",
      "\n",
      "Ninguno tiene suficiente energía para continuar. El juego termina en empate.\n",
      "Goku: Vida 20, Energía 10\n",
      "Vegeta: Vida 20, Energía 10\n"
     ]
    }
   ],
   "source": [
    "from abc import ABC, abstractmethod\n",
    "\n",
    "# Clase Personaje\n",
    "class Personaje:\n",
    "    def __init__(self, nombre):\n",
    "        self.nombre = nombre\n",
    "        self.vida = 200\n",
    "        self.energia = 100\n",
    "\n",
    "    def atacar(self, otro_personaje):\n",
    "        if self.energia >= 15:\n",
    "            otro_personaje.vida -= 30\n",
    "            self.energia -= 15\n",
    "            print(f\"{self.nombre} ataca a {otro_personaje.nombre} por 30 puntos de daño\")\n",
    "        else:\n",
    "            print(f\"{self.nombre} no tiene suficiente energía para atacar\")\n",
    "\n",
    "    def puede_atacar(self) -> bool:\n",
    "        return self.energia >= 15\n",
    "\n",
    "# Clase abstracta Estado\n",
    "class Estado(ABC):\n",
    "    @abstractmethod\n",
    "    def turno_goku(self, juego):\n",
    "        pass\n",
    "\n",
    "    @abstractmethod\n",
    "    def turno_vegeta(self, juego):\n",
    "        pass\n",
    "\n",
    "# Estados concretos\n",
    "class EstadoJuegoActivo(Estado):\n",
    "    def turno_goku(self, juego):\n",
    "        juego.goku.atacar(juego.vegeta)\n",
    "        juego.verificar_fin_juego()\n",
    "\n",
    "    def turno_vegeta(self, juego):\n",
    "        juego.vegeta.atacar(juego.goku)\n",
    "        juego.verificar_fin_juego()\n",
    "\n",
    "class EstadoJuegoFinalizado(Estado):\n",
    "    def turno_goku(self, juego):\n",
    "        print(\"El juego ha finalizado. Goku no puede atacar.\")\n",
    "\n",
    "    def turno_vegeta(self, juego):\n",
    "        print(\"El juego ha finalizado. Vegeta no puede atacar.\")\n",
    "\n",
    "# Clase Juego\n",
    "class Juego:\n",
    "    def __init__(self):\n",
    "        self.goku = Personaje(\"Goku\")\n",
    "        self.vegeta = Personaje(\"Vegeta\")\n",
    "        self.estado = EstadoJuegoActivo()\n",
    "        self.turno = \"Goku\"\n",
    "\n",
    "    def cambiar_turno(self):\n",
    "        if self.turno == \"Goku\":\n",
    "            self.turno = \"Vegeta\"\n",
    "        else:\n",
    "            self.turno = \"Goku\"\n",
    "\n",
    "    def turno_goku(self):\n",
    "        self.estado.turno_goku(self)\n",
    "\n",
    "    def turno_vegeta(self):\n",
    "        self.estado.turno_vegeta(self)\n",
    "\n",
    "    def finalizar_juego(self):\n",
    "        self.estado = EstadoJuegoFinalizado()\n",
    "\n",
    "    def verificar_fin_juego(self):\n",
    "        if self.goku.vida <= 0:\n",
    "            print(\"\\nVegeta gana!\")\n",
    "            self.finalizar_juego()\n",
    "        elif self.vegeta.vida <= 0:\n",
    "            print(\"\\nGoku gana!\")\n",
    "            self.finalizar_juego()\n",
    "        elif not (self.goku.puede_atacar() or self.vegeta.puede_atacar()):\n",
    "            print(\"\\nNinguno tiene suficiente energía para continuar. El juego termina en empate.\")\n",
    "            self.finalizar_juego()\n",
    "\n",
    "    def jugar(self):\n",
    "        while isinstance(self.estado, EstadoJuegoActivo):\n",
    "            print(f\"\\nTurno de {self.turno}\")\n",
    "            if self.turno == \"Goku\":\n",
    "                self.turno_goku()\n",
    "            else:\n",
    "                self.turno_vegeta()\n",
    "            print(f\"Goku: Vida {self.goku.vida}, Energía {self.goku.energia}\")\n",
    "            print(f\"Vegeta: Vida {self.vegeta.vida}, Energía {self.vegeta.energia}\")\n",
    "            self.cambiar_turno()\n",
    "\n",
    "# Iniciar juego\n",
    "juego = Juego()\n",
    "juego.jugar()"
   ]
  },
  {
   "cell_type": "markdown",
   "metadata": {},
   "source": [
    "## 1. Definición de la clase `Personaje`"
   ]
  },
  {
   "cell_type": "code",
   "execution_count": null,
   "metadata": {},
   "outputs": [],
   "source": [
    "class Personaje:\n",
    "    def __init__(self, nombre):\n",
    "        self.nombre = nombre\n",
    "        self.vida = 200\n",
    "        self.energia = 100"
   ]
  },
  {
   "cell_type": "markdown",
   "metadata": {},
   "source": [
    "- `__init__` Constructor que inicializa cada personaje con un nombre, una vida inicial de 200 y una energía inicial de 100."
   ]
  },
  {
   "cell_type": "markdown",
   "metadata": {},
   "source": [
    "## 2. Método de ataque"
   ]
  },
  {
   "cell_type": "code",
   "execution_count": null,
   "metadata": {},
   "outputs": [],
   "source": [
    "def atacar(self, otro_personaje):\n",
    "    if self.energia >= 15:\n",
    "        otro_personaje.vida -= 30\n",
    "        self.energia -= 15\n",
    "        print(f\"{self.nombre} ataca a {otro_personaje.nombre} por 30 puntos de daño\")\n",
    "    else:\n",
    "        print(f\"{self.nombre} no tiene suficiente energía para atacar.\")"
   ]
  },
  {
   "cell_type": "markdown",
   "metadata": {},
   "source": [
    "- Este método permite a un personaje atacar a otro.\n",
    "- Se verifica si el personaje tiene suficiente energía (15) para realizar el ataque.\n",
    "- Si es así, se disminuye la vida del personaje atacado en 30 y se reduce la energía del atacante en 15.\n",
    "- Si no hay suficiente energía, se informa que no puede atacar."
   ]
  },
  {
   "cell_type": "markdown",
   "metadata": {},
   "source": [
    "## 3. Método para verificar si puede atacar"
   ]
  },
  {
   "cell_type": "code",
   "execution_count": null,
   "metadata": {},
   "outputs": [],
   "source": [
    "def puede_atacar(self):\n",
    "    return self.energia >= 15 and self.vida > 0"
   ]
  },
  {
   "cell_type": "markdown",
   "metadata": {},
   "source": [
    "- Este método verifica si el personaje puede atacar. Retorna `True` si tiene suficiente energía y vida, de lo contrario retorna `False`."
   ]
  },
  {
   "cell_type": "markdown",
   "metadata": {},
   "source": [
    "## 4. Clase abstracta Estado"
   ]
  },
  {
   "cell_type": "code",
   "execution_count": null,
   "metadata": {},
   "outputs": [],
   "source": [
    "class Estado(ABC):\n",
    "    @abstractmethod\n",
    "    def turno_goku(self, juego):\n",
    "        pass\n",
    "\n",
    "    @abstractmethod\n",
    "    def turno_vegeta(self, juego):\n",
    "        pass"
   ]
  },
  {
   "cell_type": "markdown",
   "metadata": {},
   "source": [
    "- Define una interfaz para los estados del juego. Debe implementar métodos para manejar el turno de Goku y Vegeta."
   ]
  },
  {
   "cell_type": "markdown",
   "metadata": {},
   "source": [
    "## 5. Estados concretos"
   ]
  },
  {
   "cell_type": "code",
   "execution_count": null,
   "metadata": {},
   "outputs": [],
   "source": [
    "class EstadoJuegoActivo(Estado):\n",
    "    def turno_goku(self, juego):\n",
    "        if juego.goku.puede_atacar():\n",
    "            juego.goku.atacar(juego.vegeta)\n",
    "        else:\n",
    "            print(\"Goku no puede atacar. Turno perdido.\")\n",
    "        juego.cambiar_turno()\n",
    "\n",
    "    def turno_vegeta(self, juego):\n",
    "        if juego.vegeta.puede_atacar():\n",
    "            juego.vegeta.atacar(juego.goku)\n",
    "        else:\n",
    "            print(\"Vegeta no puede atacar. Turno perdido.\")\n",
    "        juego.cambiar_turno()"
   ]
  },
  {
   "cell_type": "markdown",
   "metadata": {},
   "source": [
    "- En este estado, los personajes pueden atacar si tienen energía suficiente. Si no, se informa que el turno se pierde."
   ]
  },
  {
   "cell_type": "markdown",
   "metadata": {},
   "source": [
    "5.1 Estado del juego finalizado"
   ]
  },
  {
   "cell_type": "code",
   "execution_count": null,
   "metadata": {},
   "outputs": [],
   "source": [
    "class EstadoJuegoFinalizado(Estado):\n",
    "    def turno_goku(self, juego):\n",
    "        print(\"El juego ha finalizado\")\n",
    "\n",
    "    def turno_vegeta(self, juego):\n",
    "        print(\"El juego ha finalizado\")"
   ]
  },
  {
   "cell_type": "markdown",
   "metadata": {},
   "source": [
    "- En este estado, no se permite realizar acciones, se informa que el juego ha terminado."
   ]
  },
  {
   "cell_type": "markdown",
   "metadata": {},
   "source": [
    "## 6. Clase `Juego`"
   ]
  },
  {
   "cell_type": "code",
   "execution_count": null,
   "metadata": {},
   "outputs": [],
   "source": [
    "class Juego:\n",
    "    def __init__(self):\n",
    "        self.goku = Personaje(\"Goku\")\n",
    "        self.vegeta = Personaje(\"Vegeta\")\n",
    "        self.estado = EstadoJuegoActivo()\n",
    "        self.turno = \"Goku\""
   ]
  },
  {
   "cell_type": "markdown",
   "metadata": {},
   "source": [
    "- Inicializa los personajes Goku y Vegeta, establece el estado del juego como activo y el turno inicial como \"Goku\"."
   ]
  },
  {
   "cell_type": "markdown",
   "metadata": {},
   "source": [
    "## 7. Método para cambiar de turno"
   ]
  },
  {
   "cell_type": "code",
   "execution_count": null,
   "metadata": {},
   "outputs": [],
   "source": [
    "def cambiar_turno(self):\n",
    "    if self.turno == \"Goku\":\n",
    "        self.turno = \"Vegeta\"\n",
    "    else:\n",
    "        self.turno = \"Goku\""
   ]
  },
  {
   "cell_type": "markdown",
   "metadata": {},
   "source": [
    "- Cambia el turno entre Goku y Vegeta."
   ]
  },
  {
   "cell_type": "markdown",
   "metadata": {},
   "source": [
    "## 8. Verificación del estado del juego"
   ]
  },
  {
   "cell_type": "code",
   "execution_count": null,
   "metadata": {},
   "outputs": [],
   "source": [
    "def verificar_fin(self):\n",
    "    if self.goku.vida <= 0 or self.vegeta.vida <= 0:\n",
    "        self.finalizar_juego()\n",
    "        if self.goku.vida > 0:\n",
    "            print(\"\\nGoku gana!\")\n",
    "        elif self.vegeta.vida > 0:\n",
    "            print(\"\\nVegeta gana!\")\n",
    "        else:\n",
    "            print(\"\\nAmbos han caído, es un empate!\")\n",
    "        return True\n",
    "\n",
    "    if not self.goku.puede_atacar() and not self.vegeta.puede_atacar():\n",
    "        self.finalizar_juego()\n",
    "        print(\"\\nNadie tiene energía suficiente para continuar. Es un empate!\")\n",
    "        return True\n",
    "\n",
    "    return False"
   ]
  },
  {
   "cell_type": "markdown",
   "metadata": {},
   "source": [
    "- Este método verifica si alguno de los personajes ha perdido toda su vida o si ambos no pueden atacar debido a falta de energía. En cualquiera de esos casos, finaliza el juego y muestra el resultado correspondiente."
   ]
  },
  {
   "cell_type": "markdown",
   "metadata": {},
   "source": [
    "## 9. Método de jugar"
   ]
  },
  {
   "cell_type": "code",
   "execution_count": null,
   "metadata": {},
   "outputs": [],
   "source": [
    "def jugar(self):\n",
    "    while not self.verificar_fin():\n",
    "        print(f\"\\nTurno de {self.turno}\")\n",
    "        if self.turno == \"Goku\":\n",
    "            self.turno_goku()\n",
    "        else:\n",
    "            self.turno_vegeta()\n",
    "        print(f\"Goku: Vida {self.goku.vida}, Energía {self.goku.energia}\")\n",
    "        print(f\"Vegeta: Vida {self.vegeta.vida}, Energía {self.vegeta.energia}\")\n",
    "        self.cambiar_turno()"
   ]
  },
  {
   "cell_type": "markdown",
   "metadata": {},
   "source": [
    "- Este método ejecuta un ciclo de juego, alternando turnos entre Goku y Vegeta hasta que se cumpla una condición de finalización."
   ]
  },
  {
   "cell_type": "markdown",
   "metadata": {},
   "source": [
    "## 10. Ejecutar el juego"
   ]
  },
  {
   "cell_type": "code",
   "execution_count": null,
   "metadata": {},
   "outputs": [],
   "source": [
    "juego = Juego()\n",
    "juego.jugar()"
   ]
  },
  {
   "cell_type": "markdown",
   "metadata": {},
   "source": [
    "- Aquí se crea una instancia del juego y se inicia la función de jugar."
   ]
  },
  {
   "cell_type": "markdown",
   "metadata": {},
   "source": [
    "Este código implementa un juego simple entre 2 personajes (Goku y Vegeta), los cuales se turnan para atacarse, se usan los principios de POO, pero en mayor medida el patrón de diseño State patrón el cual permite que un objeto cambie su comportamiento cuando su estado interno cambia."
   ]
  }
 ],
 "metadata": {
  "kernelspec": {
   "display_name": "Python 3 (ipykernel)",
   "language": "python",
   "name": "python3"
  },
  "language_info": {
   "codemirror_mode": {
    "name": "ipython",
    "version": 3
   },
   "file_extension": ".py",
   "mimetype": "text/x-python",
   "name": "python",
   "nbconvert_exporter": "python",
   "pygments_lexer": "ipython3",
   "version": "3.12.1"
  }
 },
 "nbformat": 4,
 "nbformat_minor": 2
}
