{
 "cells": [
  {
   "cell_type": "markdown",
   "metadata": {},
   "source": [
    "## Ejemplo Correcto que Cumple el DIP"
   ]
  },
  {
   "cell_type": "code",
   "execution_count": null,
   "metadata": {},
   "outputs": [],
   "source": [
    "from abc import ABC, abstractmethod\n",
    "\n",
    "# Abstracción (interfaz)\n",
    "class Notificador(ABC):\n",
    "    @abstractmethod\n",
    "    def enviar(self, mensaje: str) -> None:\n",
    "        pass\n",
    "\n",
    "# Implementación de un notificador específico\n",
    "class NotificadorEmail(Notificador):\n",
    "    def enviar(self, mensaje: str) -> None:\n",
    "        print(f\"Enviando email con el mensaje: {mensaje}\")\n",
    "\n",
    "class NotificadorSMS(Notificador):\n",
    "    def enviar(self, mensaje: str) -> None:\n",
    "        print(f\"Enviando SMS con el mensaje: {mensaje}\")\n",
    "\n",
    "# Clase de alto nivel\n",
    "class Usuario:\n",
    "    def __init__(self, notificador: Notificador) -> None:\n",
    "        self.notificador = notificador\n",
    "\n",
    "    def enviar_mensaje(self, mensaje: str) -> None:\n",
    "        self.notificador.enviar(mensaje)\n",
    "\n",
    "# Ejemplo de uso\n",
    "notificador_email = NotificadorEmail()\n",
    "usuario_email = Usuario(notificador=notificador_email)\n",
    "usuario_email.enviar_mensaje(\"Hola, este es un mensaje por email.\")\n",
    "\n",
    "notificador_sms = NotificadorSMS()\n",
    "usuario_sms = Usuario(notificador=notificador_sms)\n",
    "usuario_sms.enviar_mensaje(\"Hola, este es un mensaje por SMS.\")"
   ]
  },
  {
   "cell_type": "markdown",
   "metadata": {},
   "source": [
    "## Ejemplo Incorrecto (Violación de DIP)"
   ]
  },
  {
   "cell_type": "code",
   "execution_count": null,
   "metadata": {},
   "outputs": [],
   "source": [
    "class NotificadorEmail:\n",
    "    def enviar(self, mensaje: str) -> None:\n",
    "        print(f\"Enviando email con el mensaje: {mensaje}\")\n",
    "\n",
    "# Clase de alto nivel que depende de una implementación concreta\n",
    "class Usuario:\n",
    "    def __init__(self) -> None:\n",
    "        self.notificador = NotificadorEmail()  # Dependencia directa de la clase concreta\n",
    "\n",
    "    def enviar_mensaje(self, mensaje: str) -> None:\n",
    "        self.notificador.enviar(mensaje)\n",
    "\n",
    "# Ejemplo de uso\n",
    "usuario = Usuario()\n",
    "usuario.enviar_mensaje(\"Hola, este es un mensaje por email.\")"
   ]
  }
 ],
 "metadata": {
  "language_info": {
   "name": "python"
  }
 },
 "nbformat": 4,
 "nbformat_minor": 2
}
