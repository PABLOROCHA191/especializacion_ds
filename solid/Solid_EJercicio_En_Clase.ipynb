{
 "cells": [
  {
   "cell_type": "markdown",
   "metadata": {},
   "source": [
    "## Ejemplo Correcto (Aplicación correcta del SRP)"
   ]
  },
  {
   "cell_type": "code",
   "execution_count": 5,
   "metadata": {},
   "outputs": [
    {
     "name": "stdout",
     "output_type": "stream",
     "text": [
      "Producto: Laptop_Gamer, Precio: $3500000\n",
      "Precio con descuento: $3150000.0\n"
     ]
    }
   ],
   "source": [
    "# Clase que maneja solo los datos del producto\n",
    "class Producto:\n",
    "    def __init__(self, nombre: str, precio: float) -> None:\n",
    "        self.nombre: str = nombre\n",
    "        self.precio: float = precio\n",
    "\n",
    "# Clase que se encarga de imprimir el producto\n",
    "class ProductoPrinter:\n",
    "    def imprimir(self, producto: Producto) -> None:\n",
    "        print(f\"Producto: {producto.nombre}, Precio: ${producto.precio}\")\n",
    "\n",
    "# Clase que maneja la lógica de los descuentos\n",
    "class ProductoDescuento:\n",
    "    def aplicar_descuento(self, producto: Producto, descuento: float) -> float:\n",
    "        return producto.precio - (producto.precio * descuento / 100)\n",
    "\n",
    "# Uso del código\n",
    "producto = Producto(nombre=\"Laptop_Gamer\", precio=3500000)\n",
    "printer = ProductoPrinter()\n",
    "printer.imprimir(producto)  # Imprime los detalles del producto\n",
    "\n",
    "descuento = ProductoDescuento()\n",
    "precio_descuento = descuento.aplicar_descuento(producto, 10)\n",
    "print(f\"Precio con descuento: ${precio_descuento}\")"
   ]
  },
  {
   "cell_type": "markdown",
   "metadata": {},
   "source": [
    "## Ejemplo Incorrecto (Violación del SRP)"
   ]
  },
  {
   "cell_type": "code",
   "execution_count": 7,
   "metadata": {},
   "outputs": [
    {
     "name": "stdout",
     "output_type": "stream",
     "text": [
      "Producto: Laptop_Gamer, Precio: $3500000\n",
      "Precio con descuento: $3150000.0\n"
     ]
    }
   ],
   "source": [
    "class Producto:\n",
    "    def __init__(self, nombre: str, precio: float) -> None:\n",
    "        self.nombre: str = nombre\n",
    "        self.precio: float = precio\n",
    "\n",
    "    # Método que imprime el producto (violación del SRP)\n",
    "    def imprimir(self) -> None:\n",
    "        print(f\"Producto: {self.nombre}, Precio: ${self.precio}\")\n",
    "\n",
    "    # Método que aplica un descuento (violación del SRP)\n",
    "    def aplicar_descuento(self, descuento: float) -> float:\n",
    "        return self.precio - (self.precio * descuento / 100)\n",
    "\n",
    "# Uso del código\n",
    "producto = Producto(nombre=\"Laptop_Gamer\", precio=3500000)\n",
    "producto.imprimir()  # Imprime los detalles del producto\n",
    "\n",
    "precio_descuento = producto.aplicar_descuento(10)\n",
    "print(f\"Precio con descuento: ${precio_descuento}\")"
   ]
  }
 ],
 "metadata": {
  "kernelspec": {
   "display_name": "Python 3 (ipykernel)",
   "language": "python",
   "name": "python3"
  },
  "language_info": {
   "codemirror_mode": {
    "name": "ipython",
    "version": 3
   },
   "file_extension": ".py",
   "mimetype": "text/x-python",
   "name": "python",
   "nbconvert_exporter": "python",
   "pygments_lexer": "ipython3",
   "version": "3.12.1"
  }
 },
 "nbformat": 4,
 "nbformat_minor": 2
}
