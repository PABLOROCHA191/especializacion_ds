{
 "cells": [
  {
   "cell_type": "markdown",
   "metadata": {},
   "source": [
    "## Ejemplo Correcto ISP"
   ]
  },
  {
   "cell_type": "code",
   "execution_count": 7,
   "metadata": {},
   "outputs": [
    {
     "name": "stdout",
     "output_type": "stream",
     "text": [
      "El piloto está trabajando.\n",
      "El piloto está conduciendo el monoplaza de F1.\n",
      "El piloto está recargando las baterías del F1.\n",
      "La máquina expendedora está dispensando productos.\n"
     ]
    }
   ],
   "source": [
    "from abc import ABC, abstractmethod\n",
    "\n",
    "# Interfaces abstractas\n",
    "class Worker(ABC):\n",
    "    @abstractmethod\n",
    "    def work(self) -> None:\n",
    "        pass\n",
    "\n",
    "class Driver(ABC):\n",
    "    @abstractmethod\n",
    "    def drive(self) -> None:\n",
    "        pass\n",
    "\n",
    "class Recarger(ABC):\n",
    "    @abstractmethod\n",
    "    def recarger(self) -> None:\n",
    "        pass\n",
    "\n",
    "# Clase Piloto, que implementa múltiples interfaces\n",
    "class Pilot(Worker, Driver, Recarger):\n",
    "    def work(self) -> None:\n",
    "        print(\"El piloto está trabajando.\")\n",
    "\n",
    "    def drive(self) -> None:\n",
    "        print(\"El piloto está conduciendo el monoplaza de F1.\")\n",
    "\n",
    "    def recarger(self) -> None:\n",
    "        print(\"El piloto está recargando las baterías del F1.\") # En este caso no se recarga combustible, debido a que no está permitido durante una carrera\n",
    "\n",
    "# Clase Máquina Expendedora, que solo trabaja\n",
    "class VendingMachine(Worker):\n",
    "    def work(self) -> None:\n",
    "        print(\"La máquina expendedora está dispensando productos.\")\n",
    "\n",
    "# Ejemplo de uso\n",
    "pilot = Pilot()\n",
    "vending_machine = VendingMachine()\n",
    "\n",
    "pilot.work()        # Salida: \"El piloto está trabajando.\"\n",
    "pilot.drive()       # Salida: \"El piloto está conduciendo el monoplaza.\"\n",
    "pilot.recarger()      # Salida: \"El piloto está recargando las baterias del F1.\"\n",
    "\n",
    "vending_machine.work()  # Salida: \"La máquina expendedora está dispensando productos.\""
   ]
  },
  {
   "cell_type": "markdown",
   "metadata": {},
   "source": [
    "## Ejemplo de Violación del ISP"
   ]
  },
  {
   "cell_type": "code",
   "execution_count": 8,
   "metadata": {},
   "outputs": [
    {
     "ename": "TypeError",
     "evalue": "Can't instantiate abstract class Pilot without an implementation for abstract method 'refuel'",
     "output_type": "error",
     "traceback": [
      "\u001b[0;31m---------------------------------------------------------------------------\u001b[0m",
      "\u001b[0;31mTypeError\u001b[0m                                 Traceback (most recent call last)",
      "Cell \u001b[0;32mIn[8], line 42\u001b[0m\n\u001b[1;32m     39\u001b[0m         \u001b[38;5;28;01mraise\u001b[39;00m \u001b[38;5;167;01mNotImplementedError\u001b[39;00m(\u001b[38;5;124m\"\u001b[39m\u001b[38;5;124mLa máquina expendedora no necesita recargar baterías.\u001b[39m\u001b[38;5;124m\"\u001b[39m)\n\u001b[1;32m     41\u001b[0m \u001b[38;5;66;03m# Ejemplo de uso\u001b[39;00m\n\u001b[0;32m---> 42\u001b[0m pilot \u001b[38;5;241m=\u001b[39m \u001b[43mPilot\u001b[49m\u001b[43m(\u001b[49m\u001b[43m)\u001b[49m\n\u001b[1;32m     43\u001b[0m vending_machine \u001b[38;5;241m=\u001b[39m VendingMachine()\n\u001b[1;32m     45\u001b[0m pilot\u001b[38;5;241m.\u001b[39mwork()        \u001b[38;5;66;03m# Salida: \"El piloto está trabajando.\"\u001b[39;00m\n",
      "\u001b[0;31mTypeError\u001b[0m: Can't instantiate abstract class Pilot without an implementation for abstract method 'refuel'"
     ]
    }
   ],
   "source": [
    "from abc import ABC, abstractmethod\n",
    "\n",
    "# Una interfaz amplia que incluye demasiadas responsabilidades\n",
    "class Worker(ABC):\n",
    "    @abstractmethod\n",
    "    def work(self) -> None:\n",
    "        pass\n",
    "\n",
    "    @abstractmethod\n",
    "    def drive(self) -> None:\n",
    "        pass\n",
    "\n",
    "    @abstractmethod\n",
    "    def refuel(self) -> None:\n",
    "        pass\n",
    "\n",
    "# Clase Piloto que implementa la interfaz Worker\n",
    "class Pilot(Worker):\n",
    "    def work(self) -> None:\n",
    "        print(\"El piloto está trabajando.\")\n",
    "\n",
    "    def drive(self) -> None:\n",
    "        print(\"El piloto está conduciendo el monoplaza de F1.\")\n",
    "\n",
    "    def recarger(self) -> None:\n",
    "        print(\"El piloto está recargando las baterías del F1.\")\n",
    "\n",
    "# Clase Máquina Expendedora que también implementa la interfaz Worker\n",
    "class VendingMachine(Worker):\n",
    "    def work(self) -> None:\n",
    "        print(\"La máquina expendedora está dispensando productos.\")\n",
    "\n",
    "    def drive(self) -> None:\n",
    "        # La máquina expendedora no conduce, pero se ve obligada a implementar este método\n",
    "        raise NotImplementedError(\"La máquina expendedora no puede conducir.\")\n",
    "\n",
    "    def recarger(self) -> None:\n",
    "        # La máquina expendedora no necesita recargar baterías, pero se ve obligada a implementar este método\n",
    "        raise NotImplementedError(\"La máquina expendedora no necesita recargar baterías.\")\n",
    "\n",
    "# Ejemplo de uso\n",
    "pilot = Pilot()\n",
    "vending_machine = VendingMachine()\n",
    "\n",
    "pilot.work()        # Salida: \"El piloto está trabajando.\"\n",
    "pilot.drive()       # Salida: \"El piloto está conduciendo el monoplaza de F1.\"\n",
    "pilot.recarger()    # Salida: \"El piloto está recargando las baterías del F1.\"\n",
    "\n",
    "vending_machine.work()  # Salida: \"La máquina expendedora está dispensando productos.\"\n",
    "vending_machine.drive() # Error: La máquina expendedora no puede conducir."
   ]
  }
 ],
 "metadata": {
  "kernelspec": {
   "display_name": "Python 3 (ipykernel)",
   "language": "python",
   "name": "python3"
  }
 },
 "nbformat": 4,
 "nbformat_minor": 2
}
