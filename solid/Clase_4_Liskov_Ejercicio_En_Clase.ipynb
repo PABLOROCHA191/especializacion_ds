{
 "cells": [
  {
   "cell_type": "markdown",
   "metadata": {},
   "source": [
    "## Ejemplo Correcto LSP"
   ]
  },
  {
   "cell_type": "code",
   "execution_count": 1,
   "metadata": {},
   "outputs": [
    {
     "name": "stdout",
     "output_type": "stream",
     "text": [
      "La televisión Samsung QLED está encendida.\n",
      "150\n",
      "La computadora Asus TUF F15 está encendida.\n",
      "500\n"
     ]
    }
   ],
   "source": [
    "from abc import ABC, abstractmethod\n",
    "\n",
    "# Clase base DispositivoElectrico\n",
    "class DispositivoElectrico(ABC):\n",
    "    def __init__(self, marca: str, modelo: str) -> None:\n",
    "        self.marca: str = marca\n",
    "        self.modelo: str = modelo\n",
    "        self._estado: str = 'apagado'\n",
    "\n",
    "    @abstractmethod\n",
    "    def encender(self) -> int:\n",
    "        pass\n",
    "\n",
    "# Subclase Television\n",
    "class Television(DispositivoElectrico):\n",
    "    def encender(self) -> int:\n",
    "        self._estado = 'encendido'\n",
    "        print(f\"La televisión {self.marca} {self.modelo} está encendida.\")\n",
    "        return 150  # Consumo de energía en vatios (W)\n",
    "\n",
    "# Subclase Computadora\n",
    "class Computadora(DispositivoElectrico):\n",
    "    def encender(self) -> int:\n",
    "        self._estado = 'encendido'\n",
    "        print(f\"La computadora {self.marca} {self.modelo} está encendida.\")\n",
    "        return 500  # Consumo de energía en vatios\n",
    "\n",
    "# Clase Habitación que puede contener un dispositivo eléctrico\n",
    "class Habitacion:\n",
    "    def __init__(self, dispositivo: DispositivoElectrico) -> None:\n",
    "        self.dispositivo: DispositivoElectrico = dispositivo\n",
    "\n",
    "    def consumo_energia(self) -> int:\n",
    "        return self.dispositivo.encender()\n",
    "\n",
    "# Ejemplo de uso\n",
    "television = Television(marca=\"Samsung\", modelo=\"QLED\")\n",
    "computadora = Computadora(marca=\"Asus\", modelo=\"TUF F15\")\n",
    "\n",
    "habitacion_television = Habitacion(dispositivo=television)\n",
    "habitacion_computadora = Habitacion(dispositivo=computadora)\n",
    "\n",
    "print(habitacion_television.consumo_energia())  # 150\n",
    "print(habitacion_computadora.consumo_energia())  # 500"
   ]
  },
  {
   "cell_type": "markdown",
   "metadata": {},
   "source": [
    "## Ejemplo de Violación de LSP"
   ]
  },
  {
   "cell_type": "code",
   "execution_count": 1,
   "metadata": {},
   "outputs": [
    {
     "name": "stdout",
     "output_type": "stream",
     "text": [
      "El ave está volando.\n"
     ]
    },
    {
     "ename": "NotImplementedError",
     "evalue": "El pingüino no puede volar.",
     "output_type": "error",
     "traceback": [
      "\u001b[0;31m---------------------------------------------------------------------------\u001b[0m",
      "\u001b[0;31mNotImplementedError\u001b[0m                       Traceback (most recent call last)",
      "Cell \u001b[0;32mIn[1], line 17\u001b[0m\n\u001b[1;32m     14\u001b[0m pinguino \u001b[38;5;241m=\u001b[39m Pinguino()\n\u001b[1;32m     16\u001b[0m mover_ave(ave)       \u001b[38;5;66;03m# Salida: \"El ave está volando.\"\u001b[39;00m\n\u001b[0;32m---> 17\u001b[0m \u001b[43mmover_ave\u001b[49m\u001b[43m(\u001b[49m\u001b[43mpinguino\u001b[49m\u001b[43m)\u001b[49m  \u001b[38;5;66;03m# Error: NotImplementedError: El pingüino no puede volar.\u001b[39;00m\n",
      "Cell \u001b[0;32mIn[1], line 11\u001b[0m, in \u001b[0;36mmover_ave\u001b[0;34m(ave)\u001b[0m\n\u001b[1;32m     10\u001b[0m \u001b[38;5;28;01mdef\u001b[39;00m \u001b[38;5;21mmover_ave\u001b[39m(ave: Ave) \u001b[38;5;241m-\u001b[39m\u001b[38;5;241m>\u001b[39m \u001b[38;5;28;01mNone\u001b[39;00m:\n\u001b[0;32m---> 11\u001b[0m     \u001b[43mave\u001b[49m\u001b[38;5;241;43m.\u001b[39;49m\u001b[43mvolar\u001b[49m\u001b[43m(\u001b[49m\u001b[43m)\u001b[49m\n",
      "Cell \u001b[0;32mIn[1], line 7\u001b[0m, in \u001b[0;36mPinguino.volar\u001b[0;34m(self)\u001b[0m\n\u001b[1;32m      6\u001b[0m \u001b[38;5;28;01mdef\u001b[39;00m \u001b[38;5;21mvolar\u001b[39m(\u001b[38;5;28mself\u001b[39m) \u001b[38;5;241m-\u001b[39m\u001b[38;5;241m>\u001b[39m \u001b[38;5;28;01mNone\u001b[39;00m:\n\u001b[0;32m----> 7\u001b[0m     \u001b[38;5;28;01mraise\u001b[39;00m \u001b[38;5;167;01mNotImplementedError\u001b[39;00m(\u001b[38;5;124m\"\u001b[39m\u001b[38;5;124mEl pingüino no puede volar.\u001b[39m\u001b[38;5;124m\"\u001b[39m)\n",
      "\u001b[0;31mNotImplementedError\u001b[0m: El pingüino no puede volar."
     ]
    }
   ],
   "source": [
    "class Ave:\n",
    "    def volar(self) -> None:\n",
    "        print(\"El ave está volando.\")\n",
    "\n",
    "class Pinguino(Ave):\n",
    "    def volar(self) -> None:\n",
    "        raise NotImplementedError(\"El pingüino no puede volar.\")\n",
    "\n",
    "# Ejemplo de uso\n",
    "def mover_ave(ave: Ave) -> None:\n",
    "    ave.volar()\n",
    "\n",
    "ave = Ave()\n",
    "pinguino = Pinguino()\n",
    "\n",
    "mover_ave(ave)       # Salida: \"El ave está volando.\"\n",
    "mover_ave(pinguino)  # Error: NotImplementedError: El pingüino no puede volar."
   ]
  }
 ],
 "metadata": {
  "kernelspec": {
   "display_name": "Python 3 (ipykernel)",
   "language": "python",
   "name": "python3"
  },
  "language_info": {
   "codemirror_mode": {
    "name": "ipython",
    "version": 3
   },
   "file_extension": ".py",
   "mimetype": "text/x-python",
   "name": "python",
   "nbconvert_exporter": "python",
   "pygments_lexer": "ipython3",
   "version": "3.12.1"
  }
 },
 "nbformat": 4,
 "nbformat_minor": 2
}
