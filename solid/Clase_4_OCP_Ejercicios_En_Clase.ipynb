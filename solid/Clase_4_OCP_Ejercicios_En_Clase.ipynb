{
 "cells": [
  {
   "cell_type": "markdown",
   "metadata": {},
   "source": [
    "## Ejemplo Correcto (Aplicación correcta del OCP)"
   ]
  },
  {
   "cell_type": "code",
   "execution_count": 12,
   "metadata": {},
   "outputs": [
    {
     "name": "stdout",
     "output_type": "stream",
     "text": [
      "Pago: $3500000\n",
      "Pago: $2300000\n"
     ]
    }
   ],
   "source": [
    "# Clase base para empleados\n",
    "class Empleado:\n",
    "    def calcular_pago(self) -> float:\n",
    "        raise NotImplementedError(\"Este método debe ser implementado por subclases\")\n",
    "\n",
    "# Clase para empleados de tiempo completo\n",
    "class EmpleadoTiempoCompleto(Empleado):\n",
    "    def calcular_pago(self) -> float:\n",
    "        return 3500000  # Salario fijo para empleados de tiempo completo\n",
    "\n",
    "# Clase para empleados contratados\n",
    "class EmpleadoContratado(Empleado):\n",
    "    def __init__(self, horas: int, tarifa: float) -> None:\n",
    "        self.horas: int = horas\n",
    "        self.tarifa: float = tarifa\n",
    "\n",
    "    def calcular_pago(self) -> float:\n",
    "        return self.horas * self.tarifa  # Pago basado en las horas trabajadas\n",
    "\n",
    "# Uso del código\n",
    "empleados = [\n",
    "    EmpleadoTiempoCompleto(),\n",
    "    EmpleadoContratado(horas=46, tarifa=50000)\n",
    "]\n",
    "\n",
    "for empleado in empleados:\n",
    "    print(f\"Pago: ${empleado.calcular_pago()}\")"
   ]
  },
  {
   "cell_type": "markdown",
   "metadata": {},
   "source": [
    "## Ejemplo Incorrecto (Violación del OCP)"
   ]
  },
  {
   "cell_type": "code",
   "execution_count": 13,
   "metadata": {},
   "outputs": [
    {
     "name": "stdout",
     "output_type": "stream",
     "text": [
      "Pago de empleado1: $3500000\n",
      "Pago de empleado2: $2300000\n"
     ]
    }
   ],
   "source": [
    "class Empleado:\n",
    "    def __init__(self, tipo: str, horas: int = 0, tarifa: float = 0.0) -> None:\n",
    "        self.tipo: str = tipo\n",
    "        self.horas: int = horas\n",
    "        self.tarifa: float = tarifa\n",
    "\n",
    "    # Violación del OCP: se debe modificar este método cada vez que se agregue un nuevo tipo de empleado\n",
    "    def calcular_pago(self) -> float:\n",
    "        if self.tipo == \"tiempo_completo\":\n",
    "            return 3500000\n",
    "        elif self.tipo == \"contratado\":\n",
    "            return self.horas * self.tarifa\n",
    "        else:\n",
    "            raise ValueError(\"Tipo de empleado no reconocido\")\n",
    "\n",
    "# Uso del código\n",
    "empleado1 = Empleado(tipo=\"tiempo_completo\")\n",
    "empleado2 = Empleado(tipo=\"contratado\", horas=46, tarifa=50000)\n",
    "\n",
    "print(f\"Pago de empleado1: ${empleado1.calcular_pago()}\")\n",
    "print(f\"Pago de empleado2: ${empleado2.calcular_pago()}\")"
   ]
  }
 ],
 "metadata": {
  "kernelspec": {
   "display_name": "Python 3 (ipykernel)",
   "language": "python",
   "name": "python3"
  }
 },
 "nbformat": 4,
 "nbformat_minor": 2
}
