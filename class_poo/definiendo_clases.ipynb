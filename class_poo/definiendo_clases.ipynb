{
 "cells": [
  {
   "cell_type": "markdown",
   "metadata": {},
   "source": [
    "\n",
    "# Clases en Python: Métodos y Atributos\n",
    "\n",
    "\n",
    "Las clases son la base de la Programación Orientada a Objetos en Python. Permiten crear objetos que encapsulan datos y comportamientos relacionados.\n",
    "\n",
    "\n",
    "## Explicación\n",
    "\n",
    "En Python, las clases ofrecen:\n",
    "\n",
    "1. **Encapsulación**: Agrupan datos (atributos) y funciones (métodos) en una sola unidad.\n",
    "2. **Abstracción**: Permiten representar conceptos del mundo real.\n",
    "3. **Herencia**: Permite crear nuevas clases basadas en clases existentes, heredando sus atributos y métodos, facilitando la reutilización del código.\n",
    "4. **Polimorfismo**: Permite que objetos de diferentes clases puedan ser tratados de manera uniforme.\n",
    "\n",
    "## Definición de una clase\n",
    "\n",
    "Una clase se define usando la palabra clave `class`, seguida del nombre de la clase y un par de puntos.\n"
   ]
  },
  {
   "cell_type": "markdown",
   "metadata": {},
   "source": [
    "## Ejemplo práctico\n",
    "\n",
    "Veamos un ejemplo que ilustra el uso de clases, métodos y diferentes tipos de atributos en Python:"
   ]
  },
  {
   "cell_type": "code",
   "execution_count": 10,
   "metadata": {},
   "outputs": [],
   "source": [
    "class Estudiante:\n",
    "    # Atributo de clase\n",
    "    escuela: str = \"Universidad del Magdalena\"\n",
    "\n",
    "    def __init__(self, nombre: str, edad: int) -> None:\n",
    "        # Atributos de instancia\n",
    "        self.nombre: str = nombre\n",
    "        self.edad: int = edad\n",
    "        self.__calificaciones: list[float] = []  # Atributo privado\n",
    "\n",
    "    # Método de instancia\n",
    "    def agregar_calificacion(self, calificacion: float) -> None:\n",
    "        if 0 <= calificacion <= 10:\n",
    "            self.__calificaciones.append(calificacion)\n",
    "        else:\n",
    "            print(\"Calificación inválida\")\n",
    "\n",
    "    # Método de instancia\n",
    "    def promedio(self) -> float:\n",
    "        if self.__calificaciones:\n",
    "            return sum(self.__calificaciones) / len(self.__calificaciones)\n",
    "        return 0.0\n",
    "\n",
    "    # Método estático\n",
    "    @staticmethod\n",
    "    def es_mayor_de_edad(edad: int) -> bool:\n",
    "        return edad >= 18\n",
    "\n",
    "    # Método de clase\n",
    "    @classmethod\n",
    "    def cambiar_escuela(cls, nueva_escuela: str) -> None:\n",
    "        cls.escuela = nueva_escuela"
   ]
  },
  {
   "cell_type": "code",
   "execution_count": 11,
   "metadata": {},
   "outputs": [
    {
     "name": "stdout",
     "output_type": "stream",
     "text": [
      "Escuela: Universidad del Magdalena\n"
     ]
    }
   ],
   "source": [
    "estudiante1: Estudiante = Estudiante(nombre=\"Ana\", edad=20)\n",
    "estudiante2: Estudiante = Estudiante(nombre=\"Carlos\", edad=17)\n",
    "\n",
    "print(f\"Escuela: {Estudiante.escuela}\")"
   ]
  },
  {
   "cell_type": "code",
   "execution_count": 6,
   "metadata": {},
   "outputs": [
    {
     "name": "stdout",
     "output_type": "stream",
     "text": [
      "Promedio de Ana: 8.75\n"
     ]
    }
   ],
   "source": [
    "estudiante1.agregar_calificacion(calificacion=8.5)\n",
    "estudiante1.agregar_calificacion(calificacion=9.0)\n",
    "print(f\"Promedio de {estudiante1.nombre}: {estudiante1.promedio()}\")"
   ]
  },
  {
   "cell_type": "code",
   "execution_count": 7,
   "metadata": {},
   "outputs": [
    {
     "name": "stdout",
     "output_type": "stream",
     "text": [
      "¿Ana es mayor de edad? True\n",
      "¿Carlos es mayor de edad? False\n"
     ]
    }
   ],
   "source": [
    "print(f\"¿Ana es mayor de edad? {Estudiante.es_mayor_de_edad(edad=estudiante1.edad)}\")\n",
    "print(f\"¿Carlos es mayor de edad? {Estudiante.es_mayor_de_edad(edad=estudiante2.edad)}\")"
   ]
  },
  {
   "cell_type": "code",
   "execution_count": 8,
   "metadata": {},
   "outputs": [
    {
     "name": "stdout",
     "output_type": "stream",
     "text": [
      "Nueva escuela: Universidad Tecnológica\n"
     ]
    }
   ],
   "source": [
    "Estudiante.cambiar_escuela(nueva_escuela=\"Universidad Tecnológica\")\n",
    "print(f\"Nueva escuela: {estudiante1.escuela}\")"
   ]
  },
  {
   "cell_type": "markdown",
   "metadata": {},
   "source": [
    "En este ejemplo:\n",
    "\n",
    "1. `Estudiante` es una clase que representa a un estudiante.\n",
    "\n",
    "2. `escuela` es un atributo de clase compartido por todas las instancias.\n",
    "\n",
    "3. `nombre`, `edad`, y `__calificaciones` son atributos de instancia.\n",
    "\n",
    "4. `__init__` es el constructor que inicializa los atributos de instancia.\n",
    "\n",
    "5. `agregar_calificacion` y `promedio` son métodos de instancia.\n",
    "\n",
    "6. `es_mayor_de_edad` es un método estático que no depende del estado de la instancia.\n",
    "\n",
    "7. `cambiar_escuela` es un método de clase que modifica el atributo de clase."
   ]
  },
  {
   "cell_type": "markdown",
   "metadata": {},
   "source": [
    "## Explicación detallada\n",
    "\n",
    "1. **Atributos de clase**:\n",
    "\n",
    "   - Compartidos por todas las instancias de la clase.\n",
    "\n",
    "   - Definidos fuera de cualquier método en la clase.\n",
    "\n",
    "   - Accesibles a través de la clase o cualquier instancia.\n",
    "\n",
    "2. **Atributos de instancia**:\n",
    "\n",
    "   - Únicos para cada instancia de la clase.\n",
    "\n",
    "   - Pertenecen a la instancia de la clase o al objeto.\n",
    "\n",
    "   - Son atributos particulares de cada instancia, en nuestro caso de cada perro.\n",
    "\n",
    "   - Generalmente definidos en el método `__init__`.\n",
    "\n",
    "   - Accesibles a través de la instancia.\n",
    "\n",
    "3. **Métodos de instancia**:\n",
    "\n",
    "   - Operan en una instancia específica de la clase.\n",
    "\n",
    "   - Reciben `self` como primer parámetro.\n",
    "\n",
    "   - Definidos dentro de la clase.\n",
    "\n",
    "   - Pueden acceder a los atributos de instancia y de clase.\n",
    "\n",
    "\n",
    "4. **Métodos estáticos**:\n",
    "\n",
    "   - No operan en una instancia específica.\n",
    "\n",
    "   - No dependen del estado de la clase o instancia.\n",
    "\n",
    "   - No reciben `self` o `cls` como parámetro.\n",
    "\n",
    "   - Se definen con el decorador `@staticmethod`.\n",
    "\n",
    "5. **Métodos de clase**:\n",
    "\n",
    "   - Operan en la clase en lugar de en instancias específicas.\n",
    "\n",
    "   - Reciben `cls` como primer parámetro.\n",
    "\n",
    "   - Pueden acceder a los atributos de clase.\n",
    "\n",
    "   - Se definen con el decorador `@classmethod`."
   ]
  },
  {
   "cell_type": "markdown",
   "metadata": {},
   "source": [
    "## Beneficios de esta estructura\n",
    "\n",
    "1. **Organización**: Las clases permiten agrupar datos y comportamientos relacionados.\n",
    "\n",
    "2. **Reutilización**: Los métodos de clase y estáticos permiten funcionalidades sin necesidad de instanciar.\n",
    "\n",
    "3. **Encapsulación**: Los atributos privados (como `__calificaciones`) protegen los datos.\n",
    "\n",
    "4. **Flexibilidad**: Diferentes tipos de métodos permiten diversas formas de interactuar con la clase y sus instancias."
   ]
  },
  {
   "cell_type": "markdown",
   "metadata": {},
   "source": [
    "## Conclusión\n",
    "\n",
    "El manejo de clases en Python ofrece una forma poderosa y flexible de estructurar código:\n",
    "\n",
    "- Los atributos de clase proporcionan datos compartidos entre todas las instancias.\n",
    "\n",
    "- Los atributos de instancia permiten que cada objeto tenga su propio estado.\n",
    "\n",
    "- Los métodos de instancia operan en objetos individuales.\n",
    "\n",
    "- Los métodos estáticos y de clase ofrecen funcionalidades relacionadas con la clase sin necesidad de instanciación.\n",
    "\n",
    "Esta estructura permite crear código más organizado, reutilizable y fácil de mantener. Es fundamental para cualquier desarrollador Python comprender estos conceptos para aprovechar al máximo la programación orientada a objetos y crear sistemas robustos y escalables."
   ]
  },
  {
   "cell_type": "code",
   "execution_count": 1,
   "metadata": {},
   "outputs": [
    {
     "name": "stdout",
     "output_type": "stream",
     "text": [
      "Cien años de soledad por Gabriel García Márquez (1967)\n",
      "La sombra del viento por Carlos Ruiz Zafón (2001)\n",
      "Reseñas de 'Cien años de soledad':\n",
      "- Una obra maestra de la literatura.\n",
      "- Un relato fascinante y mágico.\n",
      "¿'Cien años de soledad' es un clásico? True\n",
      "¿'La sombra del viento' es un clásico? False\n",
      "Nueva categoría: Literatura Moderna\n"
     ]
    }
   ],
   "source": [
    "class Libro:\n",
    "    # Atributo de clase\n",
    "    categoria: str = \"Ficción\"\n",
    "\n",
    "    def __init__(self, titulo: str, autor: str, fecha_publicacion: int) -> None:\n",
    "        # Atributos de instancia\n",
    "        self.titulo: str = titulo\n",
    "        self.autor: str = autor\n",
    "        self.fecha_publicacion: int = fecha_publicacion\n",
    "        self.__resenas: list[str] = []  # Atributo privado\n",
    "\n",
    "    # Método de instancia\n",
    "    def agregar_resena(self, resena: str) -> None:\n",
    "        self.__resenas.append(resena)\n",
    "\n",
    "    # Método de instancia\n",
    "    def mostrar_resenas(self) -> None:\n",
    "        if self.__resenas:\n",
    "            print(f\"Reseñas de '{self.titulo}':\")\n",
    "            for resena in self.__resenas:\n",
    "                print(f\"- {resena}\")\n",
    "        else:\n",
    "            print(f\"No hay reseñas para '{self.titulo}'.\")\n",
    "\n",
    "    # Método estático\n",
    "    @staticmethod\n",
    "    def es_clasico(fecha_publicacion: int) -> bool:\n",
    "        return fecha_publicacion < 2000\n",
    "\n",
    "    # Método de clase\n",
    "    @classmethod\n",
    "    def cambiar_categoria(cls, nueva_categoria: str) -> None:\n",
    "        cls.categoria = nueva_categoria\n",
    "\n",
    "    def __str__(self) -> str:\n",
    "        return f\"{self.titulo} por {self.autor} ({self.fecha_publicacion})\"\n",
    "\n",
    "# Crear un objeto de Libro\n",
    "libro1: Libro = Libro(titulo=\"Cien años de soledad\", autor=\"Gabriel García Márquez\", fecha_publicacion=1967)\n",
    "libro2: Libro = Libro(titulo=\"La sombra del viento\", autor=\"Carlos Ruiz Zafón\", fecha_publicacion=2001)\n",
    "\n",
    "# Imprimir el estado del libro\n",
    "print(libro1)\n",
    "print(libro2)\n",
    "\n",
    "# Agregar y mostrar reseñas\n",
    "libro1.agregar_resena(\"Una obra maestra de la literatura.\")\n",
    "libro1.agregar_resena(\"Un relato fascinante y mágico.\")\n",
    "libro1.mostrar_resenas()\n",
    "\n",
    "# Verificar si un libro es clásico\n",
    "print(f\"¿'{libro1.titulo}' es un clásico? {Libro.es_clasico(libro1.fecha_publicacion)}\")\n",
    "print(f\"¿'{libro2.titulo}' es un clásico? {Libro.es_clasico(libro2.fecha_publicacion)}\")\n",
    "\n",
    "# Cambiar la categoría de los libros\n",
    "Libro.cambiar_categoria(nueva_categoria=\"Literatura Moderna\")\n",
    "print(f\"Nueva categoría: {Libro.categoria}\")"
   ]
  }
 ],
 "metadata": {
  "kernelspec": {
   "display_name": "Python 3 (ipykernel)",
   "language": "python",
   "name": "python3"
  }
 },
 "nbformat": 4,
 "nbformat_minor": 2
}
