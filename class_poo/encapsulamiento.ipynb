{
 "cells": [
  {
   "cell_type": "markdown",
   "metadata": {},
   "source": [
    "# Encapsulamiento en Programación Orientada a Objetos\n",
    "\n",
    "El encapsulamiento es uno de los principios fundamentales de la Programación Orientada a Objetos. Se refiere a la agrupación de datos y los métodos que operan sobre esos datos dentro de una unidad o clase. Además, implica la restricción del acceso directo a algunos de los componentes del objeto.\n",
    "\n",
    "## Explicación\n",
    "El encapsulamiento permite:\n",
    "\n",
    "1. **Ocultar la implementación interna**: Los detalles de cómo se implementa una clase se mantienen ocultos del mundo exterior.\n",
    "\n",
    "2. **Control de acceso**: Se puede controlar cómo y qué partes del objeto son accesibles desde fuera de la clase.\n",
    "\n",
    "3. **Flexibilidad y mantenibilidad**: Permite cambiar la implementación interna sin afectar el código que usa la clase.\n",
    "\n",
    "4. **Integridad de datos**: Ayuda a mantener los datos en un estado consistente al restringir el acceso directo."
   ]
  },
  {
   "cell_type": "markdown",
   "metadata": {},
   "source": [
    "## Ejemplo práctico\n",
    "\n",
    "En este ejemplo:\n",
    "\n",
    "1. `CuentaBancaria` encapsula los datos (`__titular` y `__saldo`) y los métodos que operan sobre ellos.\n",
    "\n",
    "2. Los atributos `__titular` y `__saldo` son privados (indicado por el doble guion bajo).\n",
    "\n",
    "3. Se proporcionan métodos públicos (`depositar`, `retirar`, `obtener_saldo`, `obtener_titular`) para interactuar con los datos privados.\n",
    "\n",
    "4. Los métodos `depositar` y `retirar` incluyen lógica para mantener la integridad de los datos.\n",
    "\n",
    "5. El acceso directo a `__saldo` desde fuera de la clase resulta en un error."
   ]
  },
  {
   "cell_type": "code",
   "execution_count": 1,
   "metadata": {},
   "outputs": [],
   "source": [
    "class CuentaBancaria:\n",
    "    def __init__(self, titular: str, saldo_inicial: float) -> None:\n",
    "        self.__titular: str = titular\n",
    "        self.__saldo: float = saldo_inicial\n",
    "\n",
    "    def depositar(self, cantidad: float) -> bool:\n",
    "        if cantidad > 0:\n",
    "            self.__saldo += cantidad\n",
    "            return True\n",
    "        return False\n",
    "\n",
    "    def retirar(self, cantidad: float) -> bool:\n",
    "        if 0 < cantidad <= self.__saldo:\n",
    "            self.__saldo -= cantidad\n",
    "            return True\n",
    "        return False\n",
    "\n",
    "    def obtener_saldo(self) -> float:\n",
    "        return self.__saldo\n",
    "\n",
    "    def obtener_titular(self) -> str:\n",
    "        return self.__titular"
   ]
  },
  {
   "cell_type": "code",
   "execution_count": 2,
   "metadata": {},
   "outputs": [
    {
     "name": "stdout",
     "output_type": "stream",
     "text": [
      "Saldo inicial: 1000\n",
      "Saldo después del depósito: 1500\n",
      "Saldo después del retiro: 1300\n"
     ]
    }
   ],
   "source": [
    "cuenta = CuentaBancaria(titular=\"Juan Pérez\", saldo_inicial=1000)\n",
    "print(f\"Saldo inicial: {cuenta.obtener_saldo()}\")\n",
    "\n",
    "cuenta.depositar(500)\n",
    "print(f\"Saldo después del depósito: {cuenta.obtener_saldo()}\")\n",
    "\n",
    "cuenta.retirar(200)\n",
    "print(f\"Saldo después del retiro: {cuenta.obtener_saldo()}\")\n"
   ]
  },
  {
   "cell_type": "code",
   "execution_count": 3,
   "metadata": {},
   "outputs": [
    {
     "name": "stdout",
     "output_type": "stream",
     "text": [
      "Error: 'CuentaBancaria' object has no attribute '__saldo'\n",
      "1300\n",
      "Juan Pérez\n"
     ]
    }
   ],
   "source": [
    "# Intentando acceder directamente a los atributos privados\n",
    "try:\n",
    "    print(cuenta.__saldo)\n",
    "except AttributeError as e:\n",
    "    print(f\"Error: {e}\")\n",
    "\n",
    "# Accediendo a los atributos privados usando name mangling\n",
    "print(cuenta._CuentaBancaria__saldo)\n",
    "print(cuenta._CuentaBancaria__titular)"
   ]
  },
  {
   "cell_type": "markdown",
   "metadata": {},
   "source": [
    "## Curiosidades del Encapsulamiento en Python\n",
    "\n",
    "- El método `dir` nos permite ver el listado de métodos y atributos de nuestra clase. \n",
    "\n",
    "- Podemos ver claramente como tenemos el metodo_normal y el atributo de clase, pero no podemos encontrar `__mi_metodo` ni `__atributo_clase`.\n",
    "\n",
    "- Esto no es una restricción estricta, sino una convención que dificulta el acceso accidental.\n",
    "\n",
    "- Se puede acceder a estos atributos usando `_NombreClase__atributo`, aunque no se recomienda.\n",
    "\n",
    "- Para acceder a los atributos y métodos privados, podemos usar el name mangling. Aunque no es una buena práctica, podemos acceder a ellos de la siguiente manera:"
   ]
  },
  {
   "cell_type": "code",
   "execution_count": 5,
   "metadata": {},
   "outputs": [
    {
     "name": "stdout",
     "output_type": "stream",
     "text": [
      "1300\n",
      "Juan Pérez\n",
      "['_CuentaBancaria__saldo', '_CuentaBancaria__titular', '__class__', '__delattr__', '__dict__', '__dir__', '__doc__', '__eq__', '__format__', '__ge__', '__getattribute__', '__getstate__', '__gt__', '__hash__', '__init__', '__init_subclass__', '__le__', '__lt__', '__module__', '__ne__', '__new__', '__reduce__', '__reduce_ex__', '__repr__', '__setattr__', '__sizeof__', '__str__', '__subclasshook__', '__weakref__', 'depositar', 'obtener_saldo', 'obtener_titular', 'retirar']\n"
     ]
    }
   ],
   "source": [
    "# Accediendo a los atributos privados usando name mangling\n",
    "print(cuenta._CuentaBancaria__saldo)\n",
    "print(cuenta._CuentaBancaria__titular)\n",
    "\n",
    "# Listado de métodos y atributos de la clase\n",
    "print(dir(cuenta))"
   ]
  },
  {
   "cell_type": "markdown",
   "metadata": {},
   "source": [
    "## Características del encapsulamiento en Python\n",
    "\n",
    "Python utiliza una forma de encapsulamiento basada en convenciones, conocida como \"name mangling\":\n",
    "\n",
    "- Los atributos con doble guion bajo (`__`) al principio se \"manglan\" para dificultar el acceso desde fuera de la clase.\n",
    "\n",
    "- Esto no es una restricción estricta, sino una convención que dificulta el acceso accidental.\n",
    "\n",
    "- Se puede acceder a estos atributos usando `_NombreClase__atributo`, aunque no se recomienda."
   ]
  },
  {
   "cell_type": "markdown",
   "metadata": {},
   "source": [
    "## Beneficios del encapsulamiento en este ejemplo\n",
    "\n",
    "1. **Protección de datos**: El saldo no puede ser modificado directamente, solo a través de métodos controlados.\n",
    "\n",
    "2. **Validación de datos**: Los métodos `depositar` y `retirar` aseguran que las operaciones sean válidas.\n",
    "\n",
    "3. **Abstracción**: Los usuarios de la clase no necesitan conocer cómo se almacena o maneja internamente el saldo.\n",
    "\n",
    "4. **Flexibilidad**: La implementación interna puede cambiar sin afectar el código que usa la clase."
   ]
  },
  {
   "cell_type": "markdown",
   "metadata": {},
   "source": [
    "## Conclusión\n",
    "\n",
    "El encapsulamiento es una herramienta poderosa en la POO que permite crear código más robusto, mantenible y seguro. Ofrece varias ventajas:\n",
    "\n",
    "- **Seguridad de datos**: Protege los datos de accesos y modificaciones no autorizados.\n",
    "\n",
    "- **Modularidad**: Facilita el desarrollo y mantenimiento de código al separar la interfaz de la implementación.\n",
    "\n",
    "- **Flexibilidad**: Permite cambiar la implementación interna sin afectar el código externo.\n",
    "\n",
    "- **Abstracción**: Simplifica el uso de la clase al ocultar detalles innecesarios.\n",
    "\n",
    "Sin embargo, es importante recordar que en Python, el encapsulamiento es más una convención que una restricción estricta. Los desarrolladores deben respetar estas convenciones para aprovechar plenamente los beneficios del encapsulamiento.\n",
    "\n",
    "En el desarrollo de software moderno, el encapsulamiento se utiliza ampliamente para crear APIs limpias y robustas, mejorar la seguridad de los datos y facilitar el mantenimiento del código a largo plazo. Dominar el concepto de encapsulamiento es esencial para cualquier desarrollador que trabaje con programación orientada a objetos, ya que permite crear sistemas más organizados, seguros y fáciles de mantener."
   ]
  },
  {
   "cell_type": "code",
   "execution_count": 4,
   "metadata": {},
   "outputs": [
    {
     "name": "stdout",
     "output_type": "stream",
     "text": [
      "Nombre: Pablo Rocha\n",
      "Salario inicial: 3000000\n",
      "Nuevo salario: 3500000\n",
      "Salario después del incremento: 3850000.0\n",
      "Error: 'Empleado' object has no attribute '__salario'\n",
      "3850000.0\n",
      "Pablo Rocha\n"
     ]
    }
   ],
   "source": [
    "class Empleado:\n",
    "    def __init__(self, nombre: str, salario_inicial: float) -> None:\n",
    "        self.__nombre: str = nombre\n",
    "        self.__salario: float = salario_inicial\n",
    "\n",
    "    def establecer_salario(self, nuevo_salario: float) -> bool:\n",
    "        if nuevo_salario > 0:\n",
    "            self.__salario = nuevo_salario\n",
    "            return True\n",
    "        return False\n",
    "\n",
    "    def obtener_salario(self) -> float:\n",
    "        return self.__salario\n",
    "\n",
    "    def obtener_nombre(self) -> str:\n",
    "        return self.__nombre\n",
    "\n",
    "    def incremento_salarial(self, porcentaje: float) -> bool:\n",
    "        if porcentaje > 0:\n",
    "            incremento = self.__salario * (porcentaje / 100)\n",
    "            self.__salario += incremento\n",
    "            return True\n",
    "        return False\n",
    "\n",
    "# Crear un objeto de Empleado\n",
    "empleado = Empleado(nombre=\"Pablo Rocha\", salario_inicial=3000000)  #Salario en Pesos Colombianos\n",
    "\n",
    "# Imprimir detalles del empleado\n",
    "print(f\"Nombre: {empleado.obtener_nombre()}\")\n",
    "print(f\"Salario inicial: {empleado.obtener_salario()}\")\n",
    "\n",
    "# Establecer un nuevo salario\n",
    "empleado.establecer_salario(3500000)          #Salario en Pesos Colombianos\n",
    "print(f\"Nuevo salario: {empleado.obtener_salario()}\")\n",
    "\n",
    "# Aplicar un incremento salarial\n",
    "empleado.incremento_salarial(10)\n",
    "print(f\"Salario después del incremento: {empleado.obtener_salario()}\")\n",
    "\n",
    "# Intentando acceder directamente a los atributos privados\n",
    "try:\n",
    "    print(empleado.__salario)\n",
    "except AttributeError as e:\n",
    "    print(f\"Error: {e}\")\n",
    "\n",
    "# Accediendo a los atributos privados usando name mangling\n",
    "print(empleado._Empleado__salario)\n",
    "print(empleado._Empleado__nombre)"
   ]
  }
 ],
 "metadata": {
  "kernelspec": {
   "display_name": "Python 3 (ipykernel)",
   "language": "python",
   "name": "python3"
  },
  "language_info": {
   "codemirror_mode": {
    "name": "ipython",
    "version": 3
   },
   "file_extension": ".py",
   "mimetype": "text/x-python",
   "name": "python",
   "nbconvert_exporter": "python",
   "pygments_lexer": "ipython3",
   "version": "3.12.1"
  }
 },
 "nbformat": 4,
 "nbformat_minor": 2
}
