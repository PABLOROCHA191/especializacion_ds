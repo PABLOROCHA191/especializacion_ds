{
 "cells": [
  {
   "cell_type": "markdown",
   "metadata": {},
   "source": [
    "# Polimorfismo en Programación Orientada a Objetos\n",
    "\n",
    "El polimorfismo es uno de los pilares fundamentales de la Programación Orientada a Objetos (POO). La palabra \"polimorfismo\" proviene del griego y significa \"muchas formas\". En el contexto de la programación, se refiere a la capacidad de objetos de diferentes clases de responder al mismo mensaje o método de diferentes maneras. En otras palabras, objetos de diferentes clases pueden ser accedidos utilizando el mismo interfaz, mostrando un comportamiento distinto (tomando diferentes formas) según cómo sean accedidos.\n",
    "\n",
    "## Explicación\n",
    "\n",
    "El polimorfismo permite:\n",
    "\n",
    "1. **Flexibilidad**: Tratar objetos de diferentes clases de manera uniforme.\n",
    "\n",
    "2. **Extensibilidad**: Añadir nuevas clases sin modificar el código existente.\n",
    "\n",
    "3. **Abstracción**: Trabajar con conceptos de alto nivel sin preocuparse por los detalles de implementación.\n",
    "\n",
    "4. **Reutilización de código**: Escribir funciones que pueden operar sobre objetos de múltiples clases."
   ]
  },
  {
   "cell_type": "code",
   "execution_count": 14,
   "metadata": {},
   "outputs": [],
   "source": [
    "from abc import ABC, abstractmethod\n",
    "\n",
    "class Vehiculo(ABC):\n",
    "    def __init__(self, marca: str, modelo: str) -> None:\n",
    "        self.marca: str = marca\n",
    "        self.modelo: str = modelo\n",
    "\n",
    "    @abstractmethod\n",
    "    def mover(self) -> str:\n",
    "        pass\n",
    "\n",
    "    def describir(self) -> str:\n",
    "        return f\"{self.marca} {self.modelo}\""
   ]
  },
  {
   "cell_type": "code",
   "execution_count": 15,
   "metadata": {},
   "outputs": [],
   "source": [
    "class Carro(Vehiculo):\n",
    "    def mover(self) -> str:\n",
    "        return \"El carro está conduciendo por la carretera\"\n",
    "\n",
    "class Avion(Vehiculo):\n",
    "    def mover(self) -> str:\n",
    "        return \"El avión está volando por el cielo\"\n",
    "\n",
    "class Barco(Vehiculo):\n",
    "    def mover(self) -> str:\n",
    "        return \"El barco está navegando por el mar\""
   ]
  },
  {
   "cell_type": "code",
   "execution_count": 16,
   "metadata": {},
   "outputs": [],
   "source": [
    "def iniciar_viaje(vehiculo: Vehiculo) -> None:\n",
    "    print(f\"Iniciando viaje en {vehiculo.describir()}:\")\n",
    "    print(vehiculo.mover())\n",
    "    print()"
   ]
  },
  {
   "cell_type": "code",
   "execution_count": 17,
   "metadata": {},
   "outputs": [
    {
     "name": "stdout",
     "output_type": "stream",
     "text": [
      "Iniciando viaje en Toyota Corolla:\n",
      "El carro está conduciendo por la carretera\n",
      "\n",
      "Iniciando viaje en Boeing 747:\n",
      "El avión está volando por el cielo\n",
      "\n",
      "Iniciando viaje en Royal Caribbean Oasis of the Seas:\n",
      "El barco está navegando por el mar\n",
      "\n"
     ]
    }
   ],
   "source": [
    "carro: Carro = Carro(marca=\"Toyota\", modelo=\"Corolla\")\n",
    "avion: Avion = Avion(marca=\"Boeing\", modelo=\"747\")\n",
    "barco: Barco = Barco(marca=\"Royal Caribbean\", modelo=\"Oasis of the Seas\")\n",
    "\n",
    "for vehiculo in [carro, avion, barco]:\n",
    "    iniciar_viaje(vehiculo=vehiculo)"
   ]
  },
  {
   "cell_type": "markdown",
   "metadata": {},
   "source": [
    "También se puede decir que el tipo de la variable `auto` es `Vehiculo`, pero el comportamiento es el de la clase `Carro`, ya que se llama al método `mover` de la clase `Carro`, y se puede acceder a los atributos de la clase `Carro`, debido a la herencia."
   ]
  },
  {
   "cell_type": "code",
   "execution_count": 13,
   "metadata": {},
   "outputs": [
    {
     "name": "stdout",
     "output_type": "stream",
     "text": [
      "Iniciando viaje en Suzuki Swift:\n",
      "El carro está conduciendo por la carretera\n",
      "\n"
     ]
    }
   ],
   "source": [
    "auto: Vehiculo = Carro(marca=\"Suzuki\", modelo=\"Swift\")\n",
    "iniciar_viaje(vehiculo=auto)"
   ]
  },
  {
   "cell_type": "markdown",
   "metadata": {},
   "source": [
    "En este ejemplo:\n",
    "\n",
    "1. `Vehiculo` es una clase abstracta que define la interfaz común para todos los vehículos.\n",
    "\n",
    "2. `Carro`, `Avion` y `Barco` son implementaciones concretas de `Vehiculo`.\n",
    "\n",
    "3. Cada clase implementa el método `mover()` de manera diferente, adecuada a su tipo de vehículo.\n",
    "\n",
    "4. La función `iniciar_viaje()` puede trabajar con cualquier objeto que sea un `Vehiculo`, demostrando polimorfismo.\n",
    "\n",
    "## Explicación del código\n",
    "\n",
    "1. **Clase base abstracta**: `Vehiculo` define la estructura común y el método abstracto `mover()`.\n",
    "\n",
    "2. **Subclases concretas**: Cada tipo de vehículo implementa `mover()` de forma específica.\n",
    "\n",
    "3. **Método común**: `describir()` es implementado en la clase base y heredado por todas las subclases.\n",
    "\n",
    "4. **Función polimórfica**: `iniciar_viaje()` acepta cualquier objeto de tipo `Vehiculo`.\n",
    "\n",
    "5. **Uso polimórfico**: El bucle for itera sobre diferentes tipos de vehículos, tratándolos de manera uniforme."
   ]
  },
  {
   "cell_type": "markdown",
   "metadata": {},
   "source": [
    "## Beneficios del polimorfismo en este ejemplo\n",
    "\n",
    "1. **Extensibilidad**: Podemos añadir nuevos tipos de vehículos (por ejemplo, `Tren`) sin modificar `iniciar_viaje()`.\n",
    "\n",
    "2. **Flexibilidad**: El mismo código funciona con diferentes tipos de vehículos.\n",
    "\n",
    "3. **Abstracción**: `iniciar_viaje()` trabaja con la abstracción de `Vehiculo`, no con implementaciones específicas.\n",
    "\n",
    "4. **Mantenibilidad**: Los cambios en la implementación de `mover()` para un tipo de vehículo no afectan a los demás."
   ]
  },
  {
   "cell_type": "markdown",
   "metadata": {},
   "source": [
    "## Conclusión\n",
    "\n",
    "El polimorfismo es una herramienta poderosa en la POO que permite crear código más flexible, extensible y mantenible. Permite tratar objetos de diferentes clases de manera uniforme, siempre que compartan una interfaz común.\n",
    "\n",
    "En el desarrollo de software del mundo real, el polimorfismo se utiliza ampliamente para:\n",
    "\n",
    "- Crear frameworks y bibliotecas flexibles.\n",
    "\n",
    "- Implementar patrones de diseño como Strategy, Observer, y Command.\n",
    "\n",
    "- Desarrollar sistemas que puedan adaptarse fácilmente a nuevos requisitos.\n",
    "\n",
    "- Escribir código que sea más fácil de probar y mantener.\n",
    "\n",
    "El polimorfismo, junto con la herencia y la encapsulación, forma la base de la programación orientada a objetos moderna. Dominar estos conceptos es esencial para cualquier desarrollador que busque crear sistemas robustos y adaptables."
   ]
  },
  {
   "cell_type": "code",
   "execution_count": 2,
   "metadata": {},
   "outputs": [
    {
     "name": "stdout",
     "output_type": "stream",
     "text": [
      "Iniciando dispositivo: Samsung QLED:\n",
      "El televisor está encendido y mostrando la programación.\n",
      "\n",
      "Iniciando dispositivo: Asus TUF F15:\n",
      "La computadora está encendida y lista para usarse.\n",
      "\n",
      "Iniciando dispositivo: VIVO Y35:\n",
      "El smartphone está encendido y conectado a la red.\n",
      "\n"
     ]
    }
   ],
   "source": [
    "from abc import ABC, abstractmethod\n",
    "\n",
    "class Dispositivo(ABC):\n",
    "    def __init__(self, marca: str, modelo: str) -> None:\n",
    "        self.marca: str = marca\n",
    "        self.modelo: str = modelo\n",
    "\n",
    "    @abstractmethod\n",
    "    def encender(self) -> str:\n",
    "        pass\n",
    "\n",
    "    def describir(self) -> str:\n",
    "        return f\"{self.marca} {self.modelo}\"\n",
    "\n",
    "class Televisor(Dispositivo):\n",
    "    def encender(self) -> str:\n",
    "        return \"El televisor está encendido y mostrando la programación.\"\n",
    "\n",
    "class Computadora(Dispositivo):\n",
    "    def encender(self) -> str:\n",
    "        return \"La computadora está encendida y lista para usarse.\"\n",
    "\n",
    "class Smartphone(Dispositivo):\n",
    "    def encender(self) -> str:\n",
    "        return \"El smartphone está encendido y conectado a la red.\"\n",
    "\n",
    "def iniciar_dispositivo(dispositivo: Dispositivo) -> None:\n",
    "    print(f\"Iniciando dispositivo: {dispositivo.describir()}:\")\n",
    "    print(dispositivo.encender())\n",
    "    print()\n",
    "\n",
    "# Crear instancias de los dispositivos\n",
    "televisor = Televisor(marca=\"Samsung\", modelo=\"QLED\")\n",
    "computadora = Computadora(marca=\"Asus\", modelo=\"TUF F15\")\n",
    "smartphone = Smartphone(marca=\"VIVO\", modelo=\"Y35\")\n",
    "\n",
    "# Iniciar cada dispositivo\n",
    "for dispositivo in [televisor, computadora, smartphone]:\n",
    "    iniciar_dispositivo(dispositivo=dispositivo)"
   ]
  }
 ],
 "metadata": {
  "kernelspec": {
   "display_name": "Python 3 (ipykernel)",
   "language": "python",
   "name": "python3"
  },
  "language_info": {
   "codemirror_mode": {
    "name": "ipython",
    "version": 3
   },
   "file_extension": ".py",
   "mimetype": "text/x-python",
   "name": "python",
   "nbconvert_exporter": "python",
   "pygments_lexer": "ipython3",
   "version": "3.12.1"
  }
 },
 "nbformat": 4,
 "nbformat_minor": 2
}
